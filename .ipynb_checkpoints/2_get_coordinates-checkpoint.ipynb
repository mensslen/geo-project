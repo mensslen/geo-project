{
 "cells": [
  {
   "cell_type": "code",
   "execution_count": 2,
   "metadata": {},
   "outputs": [],
   "source": [
    "import geopy.distance\n",
    "import json\n",
    "import pandas as pd\n",
    "from pprint import pprint\n",
    "import requests\n",
    "import time\n",
    "import webbrowser\n",
    "\n",
    "from bs4 import BeautifulSoup\n",
    "import requests"
   ]
  },
  {
   "cell_type": "code",
   "execution_count": null,
   "metadata": {},
   "outputs": [],
   "source": [
    "df = pd.read_excel(\"new_30_08_2020.xlsx\")"
   ]
  },
  {
   "cell_type": "code",
   "execution_count": null,
   "metadata": {},
   "outputs": [],
   "source": [
    "# Test. We only need columns with locations and zip codes.\n",
    "df = df[[\"d02o1\", \"d02p1\"]]"
   ]
  },
  {
   "cell_type": "code",
   "execution_count": null,
   "metadata": {},
   "outputs": [],
   "source": [
    "# Get quantity of duplicates via pivot table.\n",
    "duplicates = df.pivot_table(index=[\"d02o1\", \"d02p1\"], aggfunc='size')"
   ]
  },
  {
   "cell_type": "code",
   "execution_count": null,
   "metadata": {},
   "outputs": [],
   "source": [
    "# Turn duplicates into a new data frame.\n",
    "df = duplicates.reset_index()"
   ]
  },
  {
   "cell_type": "code",
   "execution_count": null,
   "metadata": {},
   "outputs": [],
   "source": [
    "# Rename columns with meaningful terms.\n",
    "df.columns = [\"location\", \"zip_code\", \"frequency\"]"
   ]
  },
  {
   "cell_type": "code",
   "execution_count": null,
   "metadata": {},
   "outputs": [],
   "source": [
    "# Sort out all non-German zip codes by dropping all zip codes smaller than 10000.\n",
    "mask = df[\"zip_code\"] < 10000\n",
    "df = df[~mask]"
   ]
  },
  {
   "cell_type": "code",
   "execution_count": null,
   "metadata": {},
   "outputs": [],
   "source": [
    "# We save df to new files to encounter encoding problems in original Excel file.\n",
    "df.to_csv(\"aggregated_locations_of_users.csv\", encoding=\"cp1252\", index=False)"
   ]
  },
  {
   "cell_type": "code",
   "execution_count": null,
   "metadata": {},
   "outputs": [],
   "source": [
    "# Brushing up location names from lower chararcters to title.\n",
    "df = pd.read_csv(\"aggregated_locations_of_users.csv\")\n",
    "df[\"location\"] =df[\"location\"].apply(lambda x: x.title())"
   ]
  },
  {
   "cell_type": "code",
   "execution_count": null,
   "metadata": {},
   "outputs": [],
   "source": [
    "# Read zip code registry file as data frame.\n",
    "df2 = pd.read_csv(\"prepared_german_registry_zip_codes.csv\")"
   ]
  },
  {
   "cell_type": "code",
   "execution_count": null,
   "metadata": {},
   "outputs": [],
   "source": [
    "# Function to get coordinates from zip code registry file.\n",
    "def check_zip_registry(x):\n",
    "    mask = df2[\"postal code\"].str.contains(x)\n",
    "    # Sometimes there are several locations associated with one zip. We calculate mean coordinates.\n",
    "    longitude = df2[mask][\"longitude\"].mean()\n",
    "    latitude = df2[mask][\"latitude\"].mean()\n",
    "    return longitude, latitude"
   ]
  },
  {
   "cell_type": "code",
   "execution_count": null,
   "metadata": {},
   "outputs": [],
   "source": [
    "# Call our function from above to fetch the coordinates.\n",
    "df[\"av. longitude\"], df[\"av. latitude\"] = zip(*df[\"zip_code\"].apply(check_zip_registry))"
   ]
  },
  {
   "cell_type": "code",
   "execution_count": null,
   "metadata": {},
   "outputs": [],
   "source": [
    "df.to_csv(\"aggregated_locations_and_geo_data_of_users.csv\", index=False)"
   ]
  },
  {
   "cell_type": "code",
   "execution_count": null,
   "metadata": {},
   "outputs": [],
   "source": []
  }
 ],
 "metadata": {
  "kernelspec": {
   "display_name": "Python 3",
   "language": "python",
   "name": "python3"
  },
  "language_info": {
   "codemirror_mode": {
    "name": "ipython",
    "version": 3
   },
   "file_extension": ".py",
   "mimetype": "text/x-python",
   "name": "python",
   "nbconvert_exporter": "python",
   "pygments_lexer": "ipython3",
   "version": "3.8.5"
  }
 },
 "nbformat": 4,
 "nbformat_minor": 4
}
