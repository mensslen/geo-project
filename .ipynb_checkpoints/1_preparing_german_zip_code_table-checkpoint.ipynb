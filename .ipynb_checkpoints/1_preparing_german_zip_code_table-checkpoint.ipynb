{
 "cells": [
  {
   "cell_type": "code",
   "execution_count": 9,
   "metadata": {},
   "outputs": [],
   "source": [
    "import pandas as pd"
   ]
  },
  {
   "cell_type": "code",
   "execution_count": 10,
   "metadata": {},
   "outputs": [],
   "source": [
    "# Header taken from readme.txt.\n",
    "column_names = \"\"\"\n",
    "country code    \n",
    "postal code       \n",
    "place name       \n",
    "admin name1       \n",
    "admin code1      \n",
    "admin name2      \n",
    "admin code2      \n",
    "admin name3      \n",
    "admin code3       \n",
    "latitude         \n",
    "longitude     \n",
    "accuracy\"\"\""
   ]
  },
  {
   "cell_type": "code",
   "execution_count": 11,
   "metadata": {},
   "outputs": [],
   "source": [
    "# Preparing header names.\n",
    "column_names = column_names.split(\"\\n\")"
   ]
  },
  {
   "cell_type": "code",
   "execution_count": 12,
   "metadata": {},
   "outputs": [],
   "source": [
    "column_names = [i.rstrip() for i in column_names]"
   ]
  },
  {
   "cell_type": "code",
   "execution_count": 13,
   "metadata": {},
   "outputs": [
    {
     "data": {
      "text/plain": [
       "''"
      ]
     },
     "execution_count": 13,
     "metadata": {},
     "output_type": "execute_result"
    }
   ],
   "source": [
    "column_names.pop(0)"
   ]
  },
  {
   "cell_type": "code",
   "execution_count": 14,
   "metadata": {},
   "outputs": [
    {
     "data": {
      "text/plain": [
       "['country code',\n",
       " 'postal code',\n",
       " 'place name',\n",
       " 'admin name1',\n",
       " 'admin code1',\n",
       " 'admin name2',\n",
       " 'admin code2',\n",
       " 'admin name3',\n",
       " 'admin code3',\n",
       " 'latitude',\n",
       " 'longitude',\n",
       " 'accuracy']"
      ]
     },
     "execution_count": 14,
     "metadata": {},
     "output_type": "execute_result"
    }
   ],
   "source": [
    "column_names"
   ]
  },
  {
   "cell_type": "code",
   "execution_count": 15,
   "metadata": {},
   "outputs": [],
   "source": [
    "# Fron folder \"DE\". Convert zip codes to string. Assign column names.\n",
    "df = pd.read_csv(\"registry_german_zip_codes.csv\", delimiter=\"\\t\", converters={'postal code': lambda x: str(x)}, names=column_names)"
   ]
  },
  {
   "cell_type": "code",
   "execution_count": 16,
   "metadata": {},
   "outputs": [],
   "source": [
    "# Save to new csv.\n",
    "df.to_csv(\"prepared_registry_german_zip_codes.csv\", index=False)"
   ]
  },
  {
   "cell_type": "code",
   "execution_count": null,
   "metadata": {},
   "outputs": [],
   "source": []
  }
 ],
 "metadata": {
  "kernelspec": {
   "display_name": "Python 3",
   "language": "python",
   "name": "python3"
  },
  "language_info": {
   "codemirror_mode": {
    "name": "ipython",
    "version": 3
   },
   "file_extension": ".py",
   "mimetype": "text/x-python",
   "name": "python",
   "nbconvert_exporter": "python",
   "pygments_lexer": "ipython3",
   "version": "3.8.5"
  }
 },
 "nbformat": 4,
 "nbformat_minor": 4
}
